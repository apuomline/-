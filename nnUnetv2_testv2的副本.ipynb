{
  "nbformat": 4,
  "nbformat_minor": 0,
  "metadata": {
    "colab": {
      "provenance": [],
      "gpuType": "T4",
      "mount_file_id": "1PeyUqxWKiyBDxjksx2rTxFkGf6DOArP5",
      "authorship_tag": "ABX9TyMjqCEkBRVvmlU9MvZ86zmH",
      "include_colab_link": true
    },
    "kernelspec": {
      "name": "python3",
      "display_name": "Python 3"
    },
    "language_info": {
      "name": "python"
    },
    "accelerator": "GPU"
  },
  "cells": [
    {
      "cell_type": "markdown",
      "metadata": {
        "id": "view-in-github",
        "colab_type": "text"
      },
      "source": [
        "<a href=\"https://colab.research.google.com/github/apuomline/-/blob/main/nnUnetv2_testv2%E7%9A%84%E5%89%AF%E6%9C%AC.ipynb\" target=\"_parent\"><img src=\"https://colab.research.google.com/assets/colab-badge.svg\" alt=\"Open In Colab\"/></a>"
      ]
    },
    {
      "cell_type": "code",
      "execution_count": null,
      "metadata": {
        "id": "RCl66bptBLst"
      },
      "outputs": [],
      "source": []
    },
    {
      "cell_type": "code",
      "source": [
        "from google.colab import drive\n",
        "drive.mount('/content/drive')"
      ],
      "metadata": {
        "id": "VmZa5KPFBQFy"
      },
      "execution_count": null,
      "outputs": []
    },
    {
      "cell_type": "code",
      "source": [
        "import os\n",
        "os.chdir('/content/drive/MyDrive/nnUNetv2_model')\n",
        "!pwd"
      ],
      "metadata": {
        "colab": {
          "base_uri": "https://localhost:8080/"
        },
        "id": "WmZakt9UBX-X",
        "outputId": "9b92280b-06f2-4fc0-d185-bd775b6b090d"
      },
      "execution_count": null,
      "outputs": [
        {
          "output_type": "stream",
          "name": "stdout",
          "text": [
            "/content/drive/MyDrive/nnUNetv2_model\n"
          ]
        }
      ]
    },
    {
      "cell_type": "code",
      "source": [
        "!nvcc --version"
      ],
      "metadata": {
        "colab": {
          "base_uri": "https://localhost:8080/"
        },
        "id": "-6xE__HQBrFC",
        "outputId": "a7cb727e-ed28-44c9-e23a-e241498f1a1e"
      },
      "execution_count": null,
      "outputs": [
        {
          "output_type": "stream",
          "name": "stdout",
          "text": [
            "nvcc: NVIDIA (R) Cuda compiler driver\n",
            "Copyright (c) 2005-2022 NVIDIA Corporation\n",
            "Built on Wed_Sep_21_10:33:58_PDT_2022\n",
            "Cuda compilation tools, release 11.8, V11.8.89\n",
            "Build cuda_11.8.r11.8/compiler.31833905_0\n"
          ]
        }
      ]
    },
    {
      "cell_type": "code",
      "source": [
        "!pip install torch==2.0.1 torchvision==0.15.2"
      ],
      "metadata": {
        "colab": {
          "base_uri": "https://localhost:8080/"
        },
        "id": "nPNa-WxuCAvE",
        "outputId": "5f9761b8-0e8f-49d4-93c0-cef953254a07"
      },
      "execution_count": null,
      "outputs": [
        {
          "output_type": "stream",
          "name": "stdout",
          "text": [
            "Requirement already satisfied: torch==2.0.1 in /usr/local/lib/python3.10/dist-packages (2.0.1+cu118)\n",
            "Requirement already satisfied: torchvision==0.15.2 in /usr/local/lib/python3.10/dist-packages (0.15.2+cu118)\n",
            "Requirement already satisfied: filelock in /usr/local/lib/python3.10/dist-packages (from torch==2.0.1) (3.12.4)\n",
            "Requirement already satisfied: typing-extensions in /usr/local/lib/python3.10/dist-packages (from torch==2.0.1) (4.5.0)\n",
            "Requirement already satisfied: sympy in /usr/local/lib/python3.10/dist-packages (from torch==2.0.1) (1.12)\n",
            "Requirement already satisfied: networkx in /usr/local/lib/python3.10/dist-packages (from torch==2.0.1) (3.1)\n",
            "Requirement already satisfied: jinja2 in /usr/local/lib/python3.10/dist-packages (from torch==2.0.1) (3.1.2)\n",
            "Requirement already satisfied: triton==2.0.0 in /usr/local/lib/python3.10/dist-packages (from torch==2.0.1) (2.0.0)\n",
            "Requirement already satisfied: numpy in /usr/local/lib/python3.10/dist-packages (from torchvision==0.15.2) (1.23.5)\n",
            "Requirement already satisfied: requests in /usr/local/lib/python3.10/dist-packages (from torchvision==0.15.2) (2.31.0)\n",
            "Requirement already satisfied: pillow!=8.3.*,>=5.3.0 in /usr/local/lib/python3.10/dist-packages (from torchvision==0.15.2) (9.4.0)\n",
            "Requirement already satisfied: cmake in /usr/local/lib/python3.10/dist-packages (from triton==2.0.0->torch==2.0.1) (3.27.6)\n",
            "Requirement already satisfied: lit in /usr/local/lib/python3.10/dist-packages (from triton==2.0.0->torch==2.0.1) (17.0.2)\n",
            "Requirement already satisfied: MarkupSafe>=2.0 in /usr/local/lib/python3.10/dist-packages (from jinja2->torch==2.0.1) (2.1.3)\n",
            "Requirement already satisfied: charset-normalizer<4,>=2 in /usr/local/lib/python3.10/dist-packages (from requests->torchvision==0.15.2) (3.3.0)\n",
            "Requirement already satisfied: idna<4,>=2.5 in /usr/local/lib/python3.10/dist-packages (from requests->torchvision==0.15.2) (3.4)\n",
            "Requirement already satisfied: urllib3<3,>=1.21.1 in /usr/local/lib/python3.10/dist-packages (from requests->torchvision==0.15.2) (2.0.6)\n",
            "Requirement already satisfied: certifi>=2017.4.17 in /usr/local/lib/python3.10/dist-packages (from requests->torchvision==0.15.2) (2023.7.22)\n",
            "Requirement already satisfied: mpmath>=0.19 in /usr/local/lib/python3.10/dist-packages (from sympy->torch==2.0.1) (1.3.0)\n"
          ]
        }
      ]
    },
    {
      "cell_type": "code",
      "source": [
        "!pip install ipython==7.34.0"
      ],
      "metadata": {
        "colab": {
          "base_uri": "https://localhost:8080/",
          "height": 601
        },
        "id": "n_syA_f-DXye",
        "outputId": "3d67bb0b-44ba-4f59-cb22-581440ebaa55"
      },
      "execution_count": null,
      "outputs": [
        {
          "output_type": "stream",
          "name": "stdout",
          "text": [
            "Collecting ipython==7.34.0\n",
            "  Downloading ipython-7.34.0-py3-none-any.whl (793 kB)\n",
            "\u001b[2K     \u001b[90m━━━━━━━━━━━━━━━━━━━━━━━━━━━━━━━━━━━━━━━━\u001b[0m \u001b[32m793.8/793.8 kB\u001b[0m \u001b[31m6.2 MB/s\u001b[0m eta \u001b[36m0:00:00\u001b[0m\n",
            "\u001b[?25hRequirement already satisfied: setuptools>=18.5 in /usr/local/lib/python3.10/dist-packages (from ipython==7.34.0) (68.1.2)\n",
            "Requirement already satisfied: jedi>=0.16 in /usr/local/lib/python3.10/dist-packages (from ipython==7.34.0) (0.19.1)\n",
            "Requirement already satisfied: decorator in /usr/local/lib/python3.10/dist-packages (from ipython==7.34.0) (4.4.2)\n",
            "Requirement already satisfied: pickleshare in /usr/local/lib/python3.10/dist-packages (from ipython==7.34.0) (0.7.5)\n",
            "Requirement already satisfied: traitlets>=4.2 in /usr/local/lib/python3.10/dist-packages (from ipython==7.34.0) (5.7.1)\n",
            "Requirement already satisfied: prompt-toolkit!=3.0.0,!=3.0.1,<3.1.0,>=2.0.0 in /usr/local/lib/python3.10/dist-packages (from ipython==7.34.0) (3.0.39)\n",
            "Requirement already satisfied: pygments in /usr/local/lib/python3.10/dist-packages (from ipython==7.34.0) (2.16.1)\n",
            "Requirement already satisfied: backcall in /usr/local/lib/python3.10/dist-packages (from ipython==7.34.0) (0.2.0)\n",
            "Requirement already satisfied: matplotlib-inline in /usr/local/lib/python3.10/dist-packages (from ipython==7.34.0) (0.1.6)\n",
            "Requirement already satisfied: pexpect>4.3 in /usr/local/lib/python3.10/dist-packages (from ipython==7.34.0) (4.8.0)\n",
            "Requirement already satisfied: parso<0.9.0,>=0.8.3 in /usr/local/lib/python3.10/dist-packages (from jedi>=0.16->ipython==7.34.0) (0.8.3)\n",
            "Requirement already satisfied: ptyprocess>=0.5 in /usr/local/lib/python3.10/dist-packages (from pexpect>4.3->ipython==7.34.0) (0.7.0)\n",
            "Requirement already satisfied: wcwidth in /usr/local/lib/python3.10/dist-packages (from prompt-toolkit!=3.0.0,!=3.0.1,<3.1.0,>=2.0.0->ipython==7.34.0) (0.2.8)\n",
            "Installing collected packages: ipython\n",
            "  Attempting uninstall: ipython\n",
            "    Found existing installation: ipython 8.16.1\n",
            "    Uninstalling ipython-8.16.1:\n",
            "      Successfully uninstalled ipython-8.16.1\n",
            "Successfully installed ipython-7.34.0\n"
          ]
        },
        {
          "output_type": "display_data",
          "data": {
            "application/vnd.colab-display-data+json": {
              "pip_warning": {
                "packages": [
                  "IPython"
                ]
              }
            }
          },
          "metadata": {}
        }
      ]
    },
    {
      "cell_type": "code",
      "source": [
        "!pip install pandas==1.5.3"
      ],
      "metadata": {
        "colab": {
          "base_uri": "https://localhost:8080/"
        },
        "id": "vucKAlMNBfci",
        "outputId": "ed616397-395f-4cc0-8752-7161fb8ce914"
      },
      "execution_count": null,
      "outputs": [
        {
          "output_type": "stream",
          "name": "stdout",
          "text": [
            "Collecting pandas==1.5.3\n",
            "  Downloading pandas-1.5.3-cp310-cp310-manylinux_2_17_x86_64.manylinux2014_x86_64.whl (12.1 MB)\n",
            "\u001b[2K     \u001b[90m━━━━━━━━━━━━━━━━━━━━━━━━━━━━━━━━━━━━━━━━\u001b[0m \u001b[32m12.1/12.1 MB\u001b[0m \u001b[31m36.1 MB/s\u001b[0m eta \u001b[36m0:00:00\u001b[0m\n",
            "\u001b[?25hRequirement already satisfied: python-dateutil>=2.8.1 in /usr/local/lib/python3.10/dist-packages (from pandas==1.5.3) (2.8.2)\n",
            "Requirement already satisfied: pytz>=2020.1 in /usr/local/lib/python3.10/dist-packages (from pandas==1.5.3) (2023.3.post1)\n",
            "Requirement already satisfied: numpy>=1.21.0 in /usr/local/lib/python3.10/dist-packages (from pandas==1.5.3) (1.23.5)\n",
            "Requirement already satisfied: six>=1.5 in /usr/local/lib/python3.10/dist-packages (from python-dateutil>=2.8.1->pandas==1.5.3) (1.16.0)\n",
            "Installing collected packages: pandas\n",
            "  Attempting uninstall: pandas\n",
            "    Found existing installation: pandas 2.1.1\n",
            "    Uninstalling pandas-2.1.1:\n",
            "      Successfully uninstalled pandas-2.1.1\n",
            "\u001b[31mERROR: pip's dependency resolver does not currently take into account all the packages that are installed. This behaviour is the source of the following dependency conflicts.\n",
            "google-colab 1.0.0 requires ipython==7.34.0, but you have ipython 8.16.1 which is incompatible.\u001b[0m\u001b[31m\n",
            "\u001b[0mSuccessfully installed pandas-1.5.3\n"
          ]
        }
      ]
    },
    {
      "cell_type": "code",
      "source": [
        "!pip install numpy==1.23.5"
      ],
      "metadata": {
        "colab": {
          "base_uri": "https://localhost:8080/"
        },
        "id": "vPXrKBzxDpya",
        "outputId": "a853c4c6-0bf2-45b6-d3a2-c22416d3b453"
      },
      "execution_count": null,
      "outputs": [
        {
          "output_type": "stream",
          "name": "stdout",
          "text": [
            "Requirement already satisfied: numpy==1.23.5 in /usr/local/lib/python3.10/dist-packages (1.23.5)\n"
          ]
        }
      ]
    },
    {
      "cell_type": "code",
      "source": [
        "!mkdir /content/drive/MyDrive/nnUNetv2_model/nnUNetFrame"
      ],
      "metadata": {
        "id": "jBbt421nD1hH"
      },
      "execution_count": null,
      "outputs": []
    },
    {
      "cell_type": "code",
      "source": [
        "!mkdir /content/drive/MyDrive/nnUNetv2_model/nnUNetFrame/Dataset"
      ],
      "metadata": {
        "id": "FQp7bAetFC4f"
      },
      "execution_count": null,
      "outputs": []
    },
    {
      "cell_type": "code",
      "source": [
        "!mkdir /content/drive/MyDrive/nnUNetv2_model/nnUNetFrame/Dataset/nnUNet_raw_data_base\n",
        "!mkdir /content/drive/MyDrive/nnUNetv2_model/nnUNetFrame/Dataset/nnUNet_preprocessed\n",
        "!mkdir /content/drive/MyDrive/nnUNetv2_model/nnUNetFrame/Dataset/nnUNet_results"
      ],
      "metadata": {
        "id": "nDh-JvXqFKZV"
      },
      "execution_count": null,
      "outputs": []
    },
    {
      "cell_type": "code",
      "source": [
        "!tar -xvf /content/drive/MyDrive/Task05_Prostate.tar -C /content/drive/MyDrive"
      ],
      "metadata": {
        "colab": {
          "base_uri": "https://localhost:8080/"
        },
        "id": "SM-Q8A7AHT4Q",
        "outputId": "a450e7b6-2389-4a2e-f3fd-8cae8426f67c"
      },
      "execution_count": null,
      "outputs": [
        {
          "output_type": "stream",
          "name": "stdout",
          "text": [
            "Task05_Prostate/._dataset.json\n",
            "Task05_Prostate/dataset.json\n",
            "Task05_Prostate/._imagesTr\n",
            "Task05_Prostate/imagesTr/\n",
            "Task05_Prostate/imagesTr/prostate_16.nii.gz\n",
            "Task05_Prostate/imagesTr/._prostate_04.nii.gz\n",
            "Task05_Prostate/imagesTr/prostate_04.nii.gz\n",
            "Task05_Prostate/imagesTr/prostate_32.nii.gz\n",
            "Task05_Prostate/imagesTr/prostate_20.nii.gz\n",
            "Task05_Prostate/imagesTr/prostate_43.nii.gz\n",
            "Task05_Prostate/imagesTr/prostate_18.nii.gz\n",
            "Task05_Prostate/imagesTr/prostate_06.nii.gz\n",
            "Task05_Prostate/imagesTr/prostate_14.nii.gz\n",
            "Task05_Prostate/imagesTr/prostate_41.nii.gz\n",
            "Task05_Prostate/imagesTr/prostate_34.nii.gz\n",
            "Task05_Prostate/imagesTr/prostate_38.nii.gz\n",
            "Task05_Prostate/imagesTr/prostate_10.nii.gz\n",
            "Task05_Prostate/imagesTr/prostate_02.nii.gz\n",
            "Task05_Prostate/imagesTr/prostate_24.nii.gz\n",
            "Task05_Prostate/imagesTr/prostate_47.nii.gz\n",
            "Task05_Prostate/imagesTr/prostate_28.nii.gz\n",
            "Task05_Prostate/imagesTr/prostate_00.nii.gz\n",
            "Task05_Prostate/imagesTr/prostate_42.nii.gz\n",
            "Task05_Prostate/imagesTr/prostate_21.nii.gz\n",
            "Task05_Prostate/imagesTr/prostate_17.nii.gz\n",
            "Task05_Prostate/imagesTr/prostate_40.nii.gz\n",
            "Task05_Prostate/imagesTr/prostate_31.nii.gz\n",
            "Task05_Prostate/imagesTr/prostate_07.nii.gz\n",
            "Task05_Prostate/imagesTr/prostate_35.nii.gz\n",
            "Task05_Prostate/imagesTr/prostate_44.nii.gz\n",
            "Task05_Prostate/imagesTr/prostate_39.nii.gz\n",
            "Task05_Prostate/imagesTr/prostate_01.nii.gz\n",
            "Task05_Prostate/imagesTr/prostate_13.nii.gz\n",
            "Task05_Prostate/imagesTr/prostate_46.nii.gz\n",
            "Task05_Prostate/imagesTr/prostate_25.nii.gz\n",
            "Task05_Prostate/imagesTr/prostate_29.nii.gz\n",
            "Task05_Prostate/imagesTr/prostate_37.nii.gz\n",
            "Task05_Prostate/._imagesTs\n",
            "Task05_Prostate/imagesTs/\n",
            "Task05_Prostate/imagesTs/prostate_08.nii.gz\n",
            "Task05_Prostate/imagesTs/._prostate_22.nii.gz\n",
            "Task05_Prostate/imagesTs/prostate_22.nii.gz\n",
            "Task05_Prostate/imagesTs/prostate_30.nii.gz\n",
            "Task05_Prostate/imagesTs/prostate_45.nii.gz\n",
            "Task05_Prostate/imagesTs/prostate_26.nii.gz\n",
            "Task05_Prostate/imagesTs/prostate_36.nii.gz\n",
            "Task05_Prostate/imagesTs/prostate_12.nii.gz\n",
            "Task05_Prostate/imagesTs/prostate_33.nii.gz\n",
            "Task05_Prostate/imagesTs/._prostate_09.nii.gz\n",
            "Task05_Prostate/imagesTs/prostate_09.nii.gz\n",
            "Task05_Prostate/imagesTs/prostate_05.nii.gz\n",
            "Task05_Prostate/imagesTs/prostate_23.nii.gz\n",
            "Task05_Prostate/imagesTs/prostate_19.nii.gz\n",
            "Task05_Prostate/imagesTs/prostate_15.nii.gz\n",
            "Task05_Prostate/imagesTs/prostate_11.nii.gz\n",
            "Task05_Prostate/imagesTs/prostate_03.nii.gz\n",
            "Task05_Prostate/imagesTs/prostate_27.nii.gz\n",
            "Task05_Prostate/._labelsTr\n",
            "Task05_Prostate/labelsTr/\n",
            "Task05_Prostate/labelsTr/prostate_16.nii.gz\n",
            "Task05_Prostate/labelsTr/prostate_04.nii.gz\n",
            "Task05_Prostate/labelsTr/prostate_32.nii.gz\n",
            "Task05_Prostate/labelsTr/prostate_20.nii.gz\n",
            "Task05_Prostate/labelsTr/prostate_43.nii.gz\n",
            "Task05_Prostate/labelsTr/prostate_18.nii.gz\n",
            "Task05_Prostate/labelsTr/prostate_06.nii.gz\n",
            "Task05_Prostate/labelsTr/prostate_14.nii.gz\n",
            "Task05_Prostate/labelsTr/._prostate_41.nii.gz\n",
            "Task05_Prostate/labelsTr/prostate_41.nii.gz\n",
            "Task05_Prostate/labelsTr/._prostate_34.nii.gz\n",
            "Task05_Prostate/labelsTr/prostate_34.nii.gz\n",
            "Task05_Prostate/labelsTr/prostate_38.nii.gz\n",
            "Task05_Prostate/labelsTr/prostate_10.nii.gz\n",
            "Task05_Prostate/labelsTr/prostate_02.nii.gz\n",
            "Task05_Prostate/labelsTr/prostate_24.nii.gz\n",
            "Task05_Prostate/labelsTr/prostate_47.nii.gz\n",
            "Task05_Prostate/labelsTr/prostate_28.nii.gz\n",
            "Task05_Prostate/labelsTr/prostate_00.nii.gz\n",
            "Task05_Prostate/labelsTr/prostate_42.nii.gz\n",
            "Task05_Prostate/labelsTr/prostate_21.nii.gz\n",
            "Task05_Prostate/labelsTr/prostate_17.nii.gz\n",
            "Task05_Prostate/labelsTr/prostate_40.nii.gz\n",
            "Task05_Prostate/labelsTr/prostate_31.nii.gz\n",
            "Task05_Prostate/labelsTr/prostate_07.nii.gz\n",
            "Task05_Prostate/labelsTr/prostate_35.nii.gz\n",
            "Task05_Prostate/labelsTr/prostate_44.nii.gz\n",
            "Task05_Prostate/labelsTr/prostate_39.nii.gz\n",
            "Task05_Prostate/labelsTr/prostate_01.nii.gz\n",
            "Task05_Prostate/labelsTr/prostate_13.nii.gz\n",
            "Task05_Prostate/labelsTr/prostate_46.nii.gz\n",
            "Task05_Prostate/labelsTr/._prostate_25.nii.gz\n",
            "Task05_Prostate/labelsTr/prostate_25.nii.gz\n",
            "Task05_Prostate/labelsTr/prostate_29.nii.gz\n",
            "Task05_Prostate/labelsTr/prostate_37.nii.gz\n"
          ]
        }
      ]
    },
    {
      "cell_type": "code",
      "source": [
        "os.chdir('/content/drive/MyDrive/nnUNetv2/nnunetv2')\n",
        "!pwd\n",
        "os.listdir('/content/drive/MyDrive/nnUNetv2/nnunetv2')"
      ],
      "metadata": {
        "colab": {
          "base_uri": "https://localhost:8080/"
        },
        "id": "k_4VprVwJVHl",
        "outputId": "9abc9278-144f-470a-c119-030a05e2bf7f"
      },
      "execution_count": null,
      "outputs": [
        {
          "output_type": "stream",
          "name": "stdout",
          "text": [
            "/content/drive/MyDrive/nnUNetv2/nnunetv2\n"
          ]
        },
        {
          "output_type": "execute_result",
          "data": {
            "text/plain": [
              "['configuration.py',\n",
              " '__init__.py',\n",
              " 'tests',\n",
              " 'model_sharing',\n",
              " 'postprocessing',\n",
              " 'inference',\n",
              " 'training',\n",
              " 'run',\n",
              " 'ensembling',\n",
              " 'dataset_conversion',\n",
              " 'utilities',\n",
              " 'paths.py',\n",
              " 'evaluation',\n",
              " 'batch_running',\n",
              " 'experiment_planning',\n",
              " 'imageio',\n",
              " '__pycache__',\n",
              " 'preprocessing']"
            ]
          },
          "metadata": {},
          "execution_count": 40
        }
      ]
    },
    {
      "cell_type": "code",
      "source": [
        "!cd /content/drive/MyDrive/nnUNetv2/nnunetv2/dataset_conversion"
      ],
      "metadata": {
        "id": "5QugU6azLbWH"
      },
      "execution_count": null,
      "outputs": []
    },
    {
      "cell_type": "code",
      "source": [
        "import os\n",
        "os.chdir('/content/drive/MyDrive/nnUNetv2')\n",
        "!pwd"
      ],
      "metadata": {
        "colab": {
          "base_uri": "https://localhost:8080/"
        },
        "id": "n0ozY9N-Lm0N",
        "outputId": "9e2d153a-38d9-4c0e-8b44-53e7ffced76f"
      },
      "execution_count": null,
      "outputs": [
        {
          "output_type": "stream",
          "name": "stdout",
          "text": [
            "/content/drive/MyDrive/nnUNetv2\n"
          ]
        }
      ]
    },
    {
      "cell_type": "code",
      "source": [
        "!pip install -r requirements.txt"
      ],
      "metadata": {
        "colab": {
          "base_uri": "https://localhost:8080/",
          "height": 1000
        },
        "id": "tzG--sZbLmaS",
        "outputId": "e8707423-1d2d-4eea-a07b-94dff9c0fa0e"
      },
      "execution_count": null,
      "outputs": [
        {
          "output_type": "stream",
          "name": "stdout",
          "text": [
            "Requirement already satisfied: acvl_utils==0.2 in /usr/local/lib/python3.10/dist-packages (from -r requirements.txt (line 1)) (0.2)\n",
            "Requirement already satisfied: adan_pytorch==0.1.0 in /usr/local/lib/python3.10/dist-packages (from -r requirements.txt (line 2)) (0.1.0)\n",
            "Requirement already satisfied: batchgenerators==0.25 in /usr/local/lib/python3.10/dist-packages (from -r requirements.txt (line 3)) (0.25)\n",
            "Requirement already satisfied: dynamic_network_architectures==0.2 in /usr/local/lib/python3.10/dist-packages (from -r requirements.txt (line 4)) (0.2)\n",
            "Requirement already satisfied: graphviz==0.20.1 in /usr/local/lib/python3.10/dist-packages (from -r requirements.txt (line 5)) (0.20.1)\n",
            "Collecting ipython==7.34.0 (from -r requirements.txt (line 6))\n",
            "  Using cached ipython-7.34.0-py3-none-any.whl (793 kB)\n",
            "Requirement already satisfied: matplotlib==3.8.0 in /usr/local/lib/python3.10/dist-packages (from -r requirements.txt (line 7)) (3.8.0)\n",
            "Requirement already satisfied: nibabel==5.1.0 in /usr/local/lib/python3.10/dist-packages (from -r requirements.txt (line 8)) (5.1.0)\n",
            "Requirement already satisfied: numpy==1.23.5 in /usr/local/lib/python3.10/dist-packages (from -r requirements.txt (line 9)) (1.23.5)\n",
            "Collecting pandas==1.5.3 (from -r requirements.txt (line 10))\n",
            "  Using cached pandas-1.5.3-cp310-cp310-manylinux_2_17_x86_64.manylinux2014_x86_64.whl (12.1 MB)\n",
            "Requirement already satisfied: Requests==2.31.0 in /usr/local/lib/python3.10/dist-packages (from -r requirements.txt (line 11)) (2.31.0)\n",
            "Requirement already satisfied: scikit_learn==1.3.1 in /usr/local/lib/python3.10/dist-packages (from -r requirements.txt (line 12)) (1.3.1)\n",
            "Requirement already satisfied: scipy==1.11.3 in /usr/local/lib/python3.10/dist-packages (from -r requirements.txt (line 13)) (1.11.3)\n",
            "Requirement already satisfied: seaborn==0.13.0 in /usr/local/lib/python3.10/dist-packages (from -r requirements.txt (line 14)) (0.13.0)\n",
            "Requirement already satisfied: setuptools==68.1.2 in /usr/local/lib/python3.10/dist-packages (from -r requirements.txt (line 15)) (68.1.2)\n",
            "Requirement already satisfied: SimpleITK==2.3.0 in /usr/local/lib/python3.10/dist-packages (from -r requirements.txt (line 16)) (2.3.0)\n",
            "Requirement already satisfied: scikit-image in /usr/local/lib/python3.10/dist-packages (from -r requirements.txt (line 18)) (0.19.3)\n",
            "Requirement already satisfied: tensorflow==2.14.0 in /usr/local/lib/python3.10/dist-packages (from -r requirements.txt (line 19)) (2.14.0)\n",
            "Requirement already satisfied: tifffile==2023.9.26 in /usr/local/lib/python3.10/dist-packages (from -r requirements.txt (line 20)) (2023.9.26)\n",
            "Requirement already satisfied: torch==2.0.1 in /usr/local/lib/python3.10/dist-packages (from -r requirements.txt (line 21)) (2.0.1+cu118)\n",
            "Requirement already satisfied: torchvision==0.15.2 in /usr/local/lib/python3.10/dist-packages (from -r requirements.txt (line 22)) (0.15.2+cu118)\n",
            "Requirement already satisfied: tqdm==4.66.1 in /usr/local/lib/python3.10/dist-packages (from -r requirements.txt (line 23)) (4.66.1)\n",
            "Requirement already satisfied: connected-components-3d in /usr/local/lib/python3.10/dist-packages (from acvl_utils==0.2->-r requirements.txt (line 1)) (3.12.3)\n",
            "Requirement already satisfied: pillow>=7.1.2 in /usr/local/lib/python3.10/dist-packages (from batchgenerators==0.25->-r requirements.txt (line 3)) (9.4.0)\n",
            "Requirement already satisfied: future in /usr/local/lib/python3.10/dist-packages (from batchgenerators==0.25->-r requirements.txt (line 3)) (0.18.3)\n",
            "Requirement already satisfied: unittest2 in /usr/local/lib/python3.10/dist-packages (from batchgenerators==0.25->-r requirements.txt (line 3)) (1.1.0)\n",
            "Requirement already satisfied: threadpoolctl in /usr/local/lib/python3.10/dist-packages (from batchgenerators==0.25->-r requirements.txt (line 3)) (3.2.0)\n",
            "Requirement already satisfied: jedi>=0.16 in /usr/local/lib/python3.10/dist-packages (from ipython==7.34.0->-r requirements.txt (line 6)) (0.19.1)\n",
            "Requirement already satisfied: decorator in /usr/local/lib/python3.10/dist-packages (from ipython==7.34.0->-r requirements.txt (line 6)) (4.4.2)\n",
            "Requirement already satisfied: pickleshare in /usr/local/lib/python3.10/dist-packages (from ipython==7.34.0->-r requirements.txt (line 6)) (0.7.5)\n",
            "Requirement already satisfied: traitlets>=4.2 in /usr/local/lib/python3.10/dist-packages (from ipython==7.34.0->-r requirements.txt (line 6)) (5.7.1)\n",
            "Requirement already satisfied: prompt-toolkit!=3.0.0,!=3.0.1,<3.1.0,>=2.0.0 in /usr/local/lib/python3.10/dist-packages (from ipython==7.34.0->-r requirements.txt (line 6)) (3.0.39)\n",
            "Requirement already satisfied: pygments in /usr/local/lib/python3.10/dist-packages (from ipython==7.34.0->-r requirements.txt (line 6)) (2.16.1)\n",
            "Requirement already satisfied: backcall in /usr/local/lib/python3.10/dist-packages (from ipython==7.34.0->-r requirements.txt (line 6)) (0.2.0)\n",
            "Requirement already satisfied: matplotlib-inline in /usr/local/lib/python3.10/dist-packages (from ipython==7.34.0->-r requirements.txt (line 6)) (0.1.6)\n",
            "Requirement already satisfied: pexpect>4.3 in /usr/local/lib/python3.10/dist-packages (from ipython==7.34.0->-r requirements.txt (line 6)) (4.8.0)\n",
            "Requirement already satisfied: contourpy>=1.0.1 in /usr/local/lib/python3.10/dist-packages (from matplotlib==3.8.0->-r requirements.txt (line 7)) (1.1.1)\n",
            "Requirement already satisfied: cycler>=0.10 in /usr/local/lib/python3.10/dist-packages (from matplotlib==3.8.0->-r requirements.txt (line 7)) (0.12.1)\n",
            "Requirement already satisfied: fonttools>=4.22.0 in /usr/local/lib/python3.10/dist-packages (from matplotlib==3.8.0->-r requirements.txt (line 7)) (4.43.1)\n",
            "Requirement already satisfied: kiwisolver>=1.0.1 in /usr/local/lib/python3.10/dist-packages (from matplotlib==3.8.0->-r requirements.txt (line 7)) (1.4.5)\n",
            "Requirement already satisfied: packaging>=20.0 in /usr/local/lib/python3.10/dist-packages (from matplotlib==3.8.0->-r requirements.txt (line 7)) (23.2)\n",
            "Requirement already satisfied: pyparsing>=2.3.1 in /usr/local/lib/python3.10/dist-packages (from matplotlib==3.8.0->-r requirements.txt (line 7)) (3.1.1)\n",
            "Requirement already satisfied: python-dateutil>=2.7 in /usr/local/lib/python3.10/dist-packages (from matplotlib==3.8.0->-r requirements.txt (line 7)) (2.8.2)\n",
            "Requirement already satisfied: pytz>=2020.1 in /usr/local/lib/python3.10/dist-packages (from pandas==1.5.3->-r requirements.txt (line 10)) (2023.3.post1)\n",
            "Requirement already satisfied: charset-normalizer<4,>=2 in /usr/local/lib/python3.10/dist-packages (from Requests==2.31.0->-r requirements.txt (line 11)) (3.3.0)\n",
            "Requirement already satisfied: idna<4,>=2.5 in /usr/local/lib/python3.10/dist-packages (from Requests==2.31.0->-r requirements.txt (line 11)) (3.4)\n",
            "Requirement already satisfied: urllib3<3,>=1.21.1 in /usr/local/lib/python3.10/dist-packages (from Requests==2.31.0->-r requirements.txt (line 11)) (2.0.6)\n",
            "Requirement already satisfied: certifi>=2017.4.17 in /usr/local/lib/python3.10/dist-packages (from Requests==2.31.0->-r requirements.txt (line 11)) (2023.7.22)\n",
            "Requirement already satisfied: joblib>=1.1.1 in /usr/local/lib/python3.10/dist-packages (from scikit_learn==1.3.1->-r requirements.txt (line 12)) (1.3.2)\n",
            "Requirement already satisfied: absl-py>=1.0.0 in /usr/local/lib/python3.10/dist-packages (from tensorflow==2.14.0->-r requirements.txt (line 19)) (1.4.0)\n",
            "Requirement already satisfied: astunparse>=1.6.0 in /usr/local/lib/python3.10/dist-packages (from tensorflow==2.14.0->-r requirements.txt (line 19)) (1.6.3)\n",
            "Requirement already satisfied: flatbuffers>=23.5.26 in /usr/local/lib/python3.10/dist-packages (from tensorflow==2.14.0->-r requirements.txt (line 19)) (23.5.26)\n",
            "Requirement already satisfied: gast!=0.5.0,!=0.5.1,!=0.5.2,>=0.2.1 in /usr/local/lib/python3.10/dist-packages (from tensorflow==2.14.0->-r requirements.txt (line 19)) (0.4.0)\n",
            "Requirement already satisfied: google-pasta>=0.1.1 in /usr/local/lib/python3.10/dist-packages (from tensorflow==2.14.0->-r requirements.txt (line 19)) (0.2.0)\n",
            "Requirement already satisfied: h5py>=2.9.0 in /usr/local/lib/python3.10/dist-packages (from tensorflow==2.14.0->-r requirements.txt (line 19)) (3.9.0)\n",
            "Requirement already satisfied: libclang>=13.0.0 in /usr/local/lib/python3.10/dist-packages (from tensorflow==2.14.0->-r requirements.txt (line 19)) (16.0.6)\n",
            "Requirement already satisfied: ml-dtypes==0.2.0 in /usr/local/lib/python3.10/dist-packages (from tensorflow==2.14.0->-r requirements.txt (line 19)) (0.2.0)\n",
            "Requirement already satisfied: opt-einsum>=2.3.2 in /usr/local/lib/python3.10/dist-packages (from tensorflow==2.14.0->-r requirements.txt (line 19)) (3.3.0)\n",
            "Requirement already satisfied: protobuf!=4.21.0,!=4.21.1,!=4.21.2,!=4.21.3,!=4.21.4,!=4.21.5,<5.0.0dev,>=3.20.3 in /usr/local/lib/python3.10/dist-packages (from tensorflow==2.14.0->-r requirements.txt (line 19)) (3.20.3)\n",
            "Requirement already satisfied: six>=1.12.0 in /usr/local/lib/python3.10/dist-packages (from tensorflow==2.14.0->-r requirements.txt (line 19)) (1.16.0)\n",
            "Requirement already satisfied: termcolor>=1.1.0 in /usr/local/lib/python3.10/dist-packages (from tensorflow==2.14.0->-r requirements.txt (line 19)) (2.3.0)\n",
            "Requirement already satisfied: typing-extensions>=3.6.6 in /usr/local/lib/python3.10/dist-packages (from tensorflow==2.14.0->-r requirements.txt (line 19)) (4.5.0)\n",
            "Requirement already satisfied: wrapt<1.15,>=1.11.0 in /usr/local/lib/python3.10/dist-packages (from tensorflow==2.14.0->-r requirements.txt (line 19)) (1.14.1)\n",
            "Requirement already satisfied: tensorflow-io-gcs-filesystem>=0.23.1 in /usr/local/lib/python3.10/dist-packages (from tensorflow==2.14.0->-r requirements.txt (line 19)) (0.34.0)\n",
            "Requirement already satisfied: grpcio<2.0,>=1.24.3 in /usr/local/lib/python3.10/dist-packages (from tensorflow==2.14.0->-r requirements.txt (line 19)) (1.59.0)\n",
            "Requirement already satisfied: tensorboard<2.15,>=2.14 in /usr/local/lib/python3.10/dist-packages (from tensorflow==2.14.0->-r requirements.txt (line 19)) (2.14.1)\n",
            "Requirement already satisfied: tensorflow-estimator<2.15,>=2.14.0 in /usr/local/lib/python3.10/dist-packages (from tensorflow==2.14.0->-r requirements.txt (line 19)) (2.14.0)\n",
            "Requirement already satisfied: keras<2.15,>=2.14.0 in /usr/local/lib/python3.10/dist-packages (from tensorflow==2.14.0->-r requirements.txt (line 19)) (2.14.0)\n",
            "Requirement already satisfied: filelock in /usr/local/lib/python3.10/dist-packages (from torch==2.0.1->-r requirements.txt (line 21)) (3.12.4)\n",
            "Requirement already satisfied: sympy in /usr/local/lib/python3.10/dist-packages (from torch==2.0.1->-r requirements.txt (line 21)) (1.12)\n",
            "Requirement already satisfied: networkx in /usr/local/lib/python3.10/dist-packages (from torch==2.0.1->-r requirements.txt (line 21)) (3.1)\n",
            "Requirement already satisfied: jinja2 in /usr/local/lib/python3.10/dist-packages (from torch==2.0.1->-r requirements.txt (line 21)) (3.1.2)\n",
            "Requirement already satisfied: triton==2.0.0 in /usr/local/lib/python3.10/dist-packages (from torch==2.0.1->-r requirements.txt (line 21)) (2.0.0)\n",
            "Requirement already satisfied: cmake in /usr/local/lib/python3.10/dist-packages (from triton==2.0.0->torch==2.0.1->-r requirements.txt (line 21)) (3.27.6)\n",
            "Requirement already satisfied: lit in /usr/local/lib/python3.10/dist-packages (from triton==2.0.0->torch==2.0.1->-r requirements.txt (line 21)) (17.0.2)\n",
            "Requirement already satisfied: imageio>=2.4.1 in /usr/local/lib/python3.10/dist-packages (from scikit-image->-r requirements.txt (line 18)) (2.31.5)\n",
            "Requirement already satisfied: PyWavelets>=1.1.1 in /usr/local/lib/python3.10/dist-packages (from scikit-image->-r requirements.txt (line 18)) (1.4.1)\n",
            "Requirement already satisfied: wheel<1.0,>=0.23.0 in /usr/local/lib/python3.10/dist-packages (from astunparse>=1.6.0->tensorflow==2.14.0->-r requirements.txt (line 19)) (0.41.2)\n",
            "Requirement already satisfied: parso<0.9.0,>=0.8.3 in /usr/local/lib/python3.10/dist-packages (from jedi>=0.16->ipython==7.34.0->-r requirements.txt (line 6)) (0.8.3)\n",
            "Requirement already satisfied: ptyprocess>=0.5 in /usr/local/lib/python3.10/dist-packages (from pexpect>4.3->ipython==7.34.0->-r requirements.txt (line 6)) (0.7.0)\n",
            "Requirement already satisfied: wcwidth in /usr/local/lib/python3.10/dist-packages (from prompt-toolkit!=3.0.0,!=3.0.1,<3.1.0,>=2.0.0->ipython==7.34.0->-r requirements.txt (line 6)) (0.2.8)\n",
            "Requirement already satisfied: google-auth<3,>=1.6.3 in /usr/local/lib/python3.10/dist-packages (from tensorboard<2.15,>=2.14->tensorflow==2.14.0->-r requirements.txt (line 19)) (2.17.3)\n",
            "Requirement already satisfied: google-auth-oauthlib<1.1,>=0.5 in /usr/local/lib/python3.10/dist-packages (from tensorboard<2.15,>=2.14->tensorflow==2.14.0->-r requirements.txt (line 19)) (1.0.0)\n",
            "Requirement already satisfied: markdown>=2.6.8 in /usr/local/lib/python3.10/dist-packages (from tensorboard<2.15,>=2.14->tensorflow==2.14.0->-r requirements.txt (line 19)) (3.5)\n",
            "Requirement already satisfied: tensorboard-data-server<0.8.0,>=0.7.0 in /usr/local/lib/python3.10/dist-packages (from tensorboard<2.15,>=2.14->tensorflow==2.14.0->-r requirements.txt (line 19)) (0.7.1)\n",
            "Requirement already satisfied: werkzeug>=1.0.1 in /usr/local/lib/python3.10/dist-packages (from tensorboard<2.15,>=2.14->tensorflow==2.14.0->-r requirements.txt (line 19)) (3.0.0)\n",
            "Requirement already satisfied: MarkupSafe>=2.0 in /usr/local/lib/python3.10/dist-packages (from jinja2->torch==2.0.1->-r requirements.txt (line 21)) (2.1.3)\n",
            "Requirement already satisfied: mpmath>=0.19 in /usr/local/lib/python3.10/dist-packages (from sympy->torch==2.0.1->-r requirements.txt (line 21)) (1.3.0)\n",
            "Collecting argparse (from unittest2->batchgenerators==0.25->-r requirements.txt (line 3))\n",
            "  Using cached argparse-1.4.0-py2.py3-none-any.whl (23 kB)\n",
            "Requirement already satisfied: traceback2 in /usr/local/lib/python3.10/dist-packages (from unittest2->batchgenerators==0.25->-r requirements.txt (line 3)) (1.4.0)\n",
            "Requirement already satisfied: cachetools<6.0,>=2.0.0 in /usr/local/lib/python3.10/dist-packages (from google-auth<3,>=1.6.3->tensorboard<2.15,>=2.14->tensorflow==2.14.0->-r requirements.txt (line 19)) (5.3.1)\n",
            "Requirement already satisfied: pyasn1-modules>=0.2.1 in /usr/local/lib/python3.10/dist-packages (from google-auth<3,>=1.6.3->tensorboard<2.15,>=2.14->tensorflow==2.14.0->-r requirements.txt (line 19)) (0.3.0)\n",
            "Requirement already satisfied: rsa<5,>=3.1.4 in /usr/local/lib/python3.10/dist-packages (from google-auth<3,>=1.6.3->tensorboard<2.15,>=2.14->tensorflow==2.14.0->-r requirements.txt (line 19)) (4.9)\n",
            "Requirement already satisfied: requests-oauthlib>=0.7.0 in /usr/local/lib/python3.10/dist-packages (from google-auth-oauthlib<1.1,>=0.5->tensorboard<2.15,>=2.14->tensorflow==2.14.0->-r requirements.txt (line 19)) (1.3.1)\n",
            "Requirement already satisfied: linecache2 in /usr/local/lib/python3.10/dist-packages (from traceback2->unittest2->batchgenerators==0.25->-r requirements.txt (line 3)) (1.0.0)\n",
            "Requirement already satisfied: pyasn1<0.6.0,>=0.4.6 in /usr/local/lib/python3.10/dist-packages (from pyasn1-modules>=0.2.1->google-auth<3,>=1.6.3->tensorboard<2.15,>=2.14->tensorflow==2.14.0->-r requirements.txt (line 19)) (0.5.0)\n",
            "Requirement already satisfied: oauthlib>=3.0.0 in /usr/local/lib/python3.10/dist-packages (from requests-oauthlib>=0.7.0->google-auth-oauthlib<1.1,>=0.5->tensorboard<2.15,>=2.14->tensorflow==2.14.0->-r requirements.txt (line 19)) (3.2.2)\n",
            "Installing collected packages: argparse, pandas, ipython\n",
            "  Attempting uninstall: pandas\n",
            "    Found existing installation: pandas 2.1.1\n",
            "    Uninstalling pandas-2.1.1:\n",
            "      Successfully uninstalled pandas-2.1.1\n",
            "  Attempting uninstall: ipython\n",
            "    Found existing installation: ipython 8.16.1\n",
            "    Uninstalling ipython-8.16.1:\n",
            "      Successfully uninstalled ipython-8.16.1\n",
            "Successfully installed argparse-1.4.0 ipython-7.34.0 pandas-1.5.3\n"
          ]
        },
        {
          "output_type": "display_data",
          "data": {
            "application/vnd.colab-display-data+json": {
              "pip_warning": {
                "packages": [
                  "IPython",
                  "argparse"
                ]
              }
            }
          },
          "metadata": {}
        }
      ]
    },
    {
      "cell_type": "code",
      "source": [
        "import sys\n",
        "sys.path.append('/content/drive/MyDrive/nnUNetv2/nnunetv2')\n",
        "os.chdir('/content/drive/MyDrive/nnUNetv2/nnunetv2/dataset_conversion/')\n",
        "!pwd\n"
      ],
      "metadata": {
        "colab": {
          "base_uri": "https://localhost:8080/"
        },
        "id": "kNXd_xwp_k53",
        "outputId": "01dc8aec-47fc-4b1a-a79f-4d1d2f418f17"
      },
      "execution_count": null,
      "outputs": [
        {
          "output_type": "stream",
          "name": "stdout",
          "text": [
            "/content/drive/MyDrive/nnUNetv2/nnunetv2/dataset_conversion\n",
            "Traceback (most recent call last):\n",
            "  File \"/content/drive/MyDrive/nnUNetv2/nnunetv2/dataset_conversion/convert_MSD_dataset.py\", line 10, in <module>\n",
            "    from paths import *\n",
            "ModuleNotFoundError: No module named 'paths'\n"
          ]
        }
      ]
    },
    {
      "cell_type": "code",
      "source": [],
      "metadata": {
        "colab": {
          "base_uri": "https://localhost:8080/"
        },
        "id": "QDDOw3rwD5H4",
        "outputId": "e8994f84-1a5e-4658-a39b-359b2999f090"
      },
      "execution_count": null,
      "outputs": [
        {
          "output_type": "stream",
          "name": "stdout",
          "text": [
            "nnUNet_raw is not defined and nnU-Net can only be used on data for which preprocessed files are already present on your system. nnU-Net cannot be used for experiment planning and preprocessing like this. If this is not intended, please read documentation/setting_up_paths.md for information on how to set this up properly.\n",
            "nnUNet_preprocessed is not defined and nnU-Net can not be used for preprocessing or training. If this is not intended, please read documentation/setting_up_paths.md for information on how to set this up.\n",
            "nnUNet_results is not defined and nnU-Net cannot be used for training or inference. If this is not intended behavior, please read documentation/setting_up_paths.md for information on how to set this up.\n",
            "Traceback (most recent call last):\n",
            "  File \"/content/drive/MyDrive/nnUNetv2/nnunetv2/dataset_conversion/convert_MSD_dataset.py\", line 329, in <module>\n",
            "    convert_msd_dataset('/home/fabian/Downloads/Task05_Prostate', overwrite_target_id=201)\n",
            "  File \"/content/drive/MyDrive/nnUNetv2/nnunetv2/dataset_conversion/convert_MSD_dataset.py\", line 246, in convert_msd_dataset\n",
            "    assert isdir(labelsTr), f\"labelsTr subfolder missing in source folder\"\n",
            "AssertionError: labelsTr subfolder missing in source folder\n"
          ]
        }
      ]
    },
    {
      "cell_type": "code",
      "source": [
        "!rm -rf /content/sample_data/nnUNetFrame\n"
      ],
      "metadata": {
        "id": "g344eRQpGkle"
      },
      "execution_count": null,
      "outputs": []
    },
    {
      "cell_type": "code",
      "source": [
        "!mkdir /content/drive/MyDrive/nnUNetv2/nnUNetFrame\n",
        "!mkdir /content/drive/MyDrive/nnUNetv2/nnUNetFrame/nnUNet_preprocessed\n",
        "!mkdir /content/drive/MyDrive/nnUNetv2/nnUNetFrame/nnUNet_result\n",
        "!mkdir !mkdir /content/drive/MyDrive/nnUNetv2/nnUNetFrame/nnUNet_raw"
      ],
      "metadata": {
        "id": "SsXypjrnL_WR"
      },
      "execution_count": null,
      "outputs": []
    },
    {
      "cell_type": "code",
      "source": [
        "os.environ['nnUNet_raw']='/nnUNetv2/nnUNetFrame/nnUNet_raw'\n",
        "os.environ['nnUNet_preprocessed']='/nnUNetv2/nnUNetFrame/nnUNet_preprocessed'\n",
        "os.environ['nnUNet_results']='/nnUNetv2/nnUNetFrame/nnUNet_result'"
      ],
      "metadata": {
        "id": "nULLk3sxMSbA"
      },
      "execution_count": null,
      "outputs": []
    },
    {
      "cell_type": "markdown",
      "source": [],
      "metadata": {
        "id": "3DUP4D63YL7s"
      }
    },
    {
      "cell_type": "code",
      "source": [
        "os.getenv('nnUNet_results')"
      ],
      "metadata": {
        "colab": {
          "base_uri": "https://localhost:8080/",
          "height": 35
        },
        "id": "SN4IZEnATmXM",
        "outputId": "a8a90ce0-e931-422e-cf6b-e706ef51ca31"
      },
      "execution_count": null,
      "outputs": [
        {
          "output_type": "execute_result",
          "data": {
            "text/plain": [
              "'/nnUNetv2/nnUNetFrame/nnUNet_result'"
            ],
            "application/vnd.google.colaboratory.intrinsic+json": {
              "type": "string"
            }
          },
          "metadata": {},
          "execution_count": 64
        }
      ]
    },
    {
      "cell_type": "code",
      "source": [
        "import sys,os\n",
        "# sys.path.append('需要作为模块引入的路径')\n",
        "# 添加当前路径的前一级文件作为源文件夹\n",
        "os.chdir('/content/drive/MyDrive')\n",
        "!pwd\n",
        "!python /content/drive/MyDrive/nnUNetv2/nnunetv2/dataset_conversion/convert_MSD_dataset.py  -i /content/drive/MyDrive/Task05_Prostate -overwrite_id=2011"
      ],
      "metadata": {
        "colab": {
          "base_uri": "https://localhost:8080/"
        },
        "id": "xIzXfxb3Mpo1",
        "outputId": "08b263b7-6540-4136-fe93-ae0611a9c86a"
      },
      "execution_count": null,
      "outputs": [
        {
          "output_type": "stream",
          "name": "stdout",
          "text": [
            "/content/drive/MyDrive\n"
          ]
        }
      ]
    },
    {
      "cell_type": "code",
      "source": [],
      "metadata": {
        "id": "yZpGPtNhSAqj"
      },
      "execution_count": null,
      "outputs": []
    },
    {
      "cell_type": "code",
      "source": [],
      "metadata": {
        "id": "MH0-pq8AQeUu"
      },
      "execution_count": null,
      "outputs": []
    }
  ]
}